{
 "cells": [
  {
   "cell_type": "markdown",
   "metadata": {},
   "source": [
    "1. Вероятность того, что стрелок попадет в мишень, выстрелив один раз, равна 0.8. Стрелок выстрелил 100 раз. <br> Найдите вероятность того, что стрелок попадет в цель ровно 85 раз."
   ]
  },
  {
   "cell_type": "markdown",
   "metadata": {},
   "source": [
    "Так как у нас вероятность при каждом отдельном испытании достаточно велика, для расчета используем формулу Бернулли\n"
   ]
  },
  {
   "cell_type": "code",
   "execution_count": 14,
   "metadata": {},
   "outputs": [],
   "source": [
    "from math import factorial as f"
   ]
  },
  {
   "cell_type": "code",
   "execution_count": 30,
   "metadata": {},
   "outputs": [],
   "source": [
    "n = 100\n",
    "k = 85\n",
    "p = 0.8\n",
    "q = 0.2"
   ]
  },
  {
   "cell_type": "code",
   "execution_count": 32,
   "metadata": {},
   "outputs": [
    {
     "name": "stdout",
     "output_type": "stream",
     "text": [
      "Bероятность того, что стрелок попадет в цель ровно 85 раз: 0.048061793700746556\n"
     ]
    }
   ],
   "source": [
    "pl = f(n)/(f(k)*f(n-k))*p**k*q**(n-k)\n",
    "print(\"Bероятность того, что стрелок попадет в цель ровно 85 раз:\", pl)"
   ]
  },
  {
   "cell_type": "markdown",
   "metadata": {},
   "source": [
    "2. Вероятность того, что лампочка перегорит в течение первого дня эксплуатации, равна 0.0004. В жилом комплексе после ремонта в один день включили 5000 новых лампочек. Какова вероятность, что ни одна из них не перегорит в первый день? Какова вероятность, что перегорят ровно две?"
   ]
  },
  {
   "cell_type": "markdown",
   "metadata": {},
   "source": [
    "Так как нужно найти вероятность события в k раза из n, используем формулу Бернулли"
   ]
  },
  {
   "cell_type": "code",
   "execution_count": 40,
   "metadata": {},
   "outputs": [],
   "source": [
    "p1 = 0.0004\n",
    "q1 = 1 - p1\n",
    "n1 = 5000\n",
    "k1 = 0\n",
    "k2 = 2"
   ]
  },
  {
   "cell_type": "code",
   "execution_count": 42,
   "metadata": {},
   "outputs": [
    {
     "name": "stdout",
     "output_type": "stream",
     "text": [
      "Bероятность того, что ни одна из лампочек не перегорит в первый день: 0.13528114551440706\n"
     ]
    }
   ],
   "source": [
    "pl1 = f(n1)/(f(k1)*f(n1-k1))*p1**k1*q1**(n1-k1)\n",
    "print(\"Bероятность того, что ни одна из лампочек не перегорит в первый день:\", pl1)"
   ]
  },
  {
   "cell_type": "code",
   "execution_count": 45,
   "metadata": {},
   "outputs": [
    {
     "name": "stdout",
     "output_type": "stream",
     "text": [
      "Bероятность того, что перегорят ровно две лампочек: 0.2707247150266753\n"
     ]
    }
   ],
   "source": [
    "pl2 = f(n1)/(f(k2)*f(n1-k2))*p1**k2*q1**(n1-k2)\n",
    "print(\"Bероятность того, что перегорят ровно две лампочек:\", pl2)"
   ]
  },
  {
   "cell_type": "markdown",
   "metadata": {},
   "source": [
    "3. Монету подбросили 144 раза. Какова вероятность, что орел выпадет ровно 70 раз?"
   ]
  },
  {
   "cell_type": "code",
   "execution_count": 47,
   "metadata": {},
   "outputs": [],
   "source": [
    "n3 = 144\n",
    "k3 = 70\n",
    "p3 = 0.5\n",
    "q3 = 1-p3"
   ]
  },
  {
   "cell_type": "code",
   "execution_count": 48,
   "metadata": {},
   "outputs": [
    {
     "name": "stdout",
     "output_type": "stream",
     "text": [
      "Bероятность, что орел выпадет ровно 70 раз: 0.06281178035144776\n"
     ]
    }
   ],
   "source": [
    "pl3 = f(n3)/(f(k3)*f(n3-k3))*p3**k3*q3**(n3-k3)\n",
    "print ('Bероятность, что орел выпадет ровно 70 раз:', pl3)"
   ]
  },
  {
   "cell_type": "markdown",
   "metadata": {},
   "source": [
    "4. В первом ящике находится 10 мячей, из которых 7 - белые. Во втором ящике - 11 мячей, из которых 9 белых. Из каждого ящика вытаскивают случайным образом по два мяча. Какова вероятность того, что все мячи белые? Какова вероятность того, что ровно два мяча белые? Какова вероятность того, что хотя бы один мяч белый?"
   ]
  },
  {
   "cell_type": "code",
   "execution_count": 49,
   "metadata": {},
   "outputs": [],
   "source": [
    "def conf(k, n):\n",
    "    return f(n)/(f(k)*f(n-k))"
   ]
  },
  {
   "cell_type": "code",
   "execution_count": 51,
   "metadata": {},
   "outputs": [
    {
     "name": "stdout",
     "output_type": "stream",
     "text": [
      "Bероятность того, что все мячи белые: 0.3054545454545455\n"
     ]
    }
   ],
   "source": [
    "p_all = conf(2, 7)/conf(2,10)*conf(2, 9)/conf(2, 11)\n",
    "print (\"Bероятность того, что все мячи белые:\", p_all)"
   ]
  },
  {
   "cell_type": "code",
   "execution_count": 54,
   "metadata": {},
   "outputs": [
    {
     "name": "stdout",
     "output_type": "stream",
     "text": [
      "Bероятность того, что ровно два мяча белые: 0.20484848484848486\n"
     ]
    }
   ],
   "source": [
    "p_2 = conf(1, 7)*conf(1, 3)/conf(2,10)*conf(1, 9)*conf(1,2)/conf(2, 11) + conf(0, 7)*conf(2, 3)/conf(2,10)*conf(2, 9)*conf(0, 2)/conf(2, 11) + conf(2, 7)*conf(0, 3)/conf(2,10)*conf(0, 9)*conf(2,2)/conf(2, 11)\n",
    "print (\"Bероятность того, что ровно два мяча белые:\", p_2)"
   ]
  },
  {
   "cell_type": "markdown",
   "metadata": {},
   "source": [
    "Найдем вероятность того, что все мячи другого цвета, только в этом случае хотя бы один из мячей не будет белым"
   ]
  },
  {
   "cell_type": "code",
   "execution_count": 56,
   "metadata": {},
   "outputs": [
    {
     "data": {
      "text/plain": [
       "0.0012121212121212121"
      ]
     },
     "execution_count": 56,
     "metadata": {},
     "output_type": "execute_result"
    }
   ],
   "source": [
    "p_other = conf(2, 3)/conf(2,10)*conf(2, 2)/conf(2, 11)\n",
    "p_other"
   ]
  },
  {
   "cell_type": "code",
   "execution_count": 57,
   "metadata": {},
   "outputs": [
    {
     "name": "stdout",
     "output_type": "stream",
     "text": [
      "Bероятность того, что хотя бы один мяч белый: 0.9987878787878788\n"
     ]
    }
   ],
   "source": [
    "p_1 = 1 - p_other\n",
    "print (\"Bероятность того, что хотя бы один мяч белый:\", p_1)"
   ]
  }
 ],
 "metadata": {
  "kernelspec": {
   "display_name": "base",
   "language": "python",
   "name": "python3"
  },
  "language_info": {
   "codemirror_mode": {
    "name": "ipython",
    "version": 3
   },
   "file_extension": ".py",
   "mimetype": "text/x-python",
   "name": "python",
   "nbconvert_exporter": "python",
   "pygments_lexer": "ipython3",
   "version": "3.9.7"
  },
  "orig_nbformat": 4
 },
 "nbformat": 4,
 "nbformat_minor": 2
}
